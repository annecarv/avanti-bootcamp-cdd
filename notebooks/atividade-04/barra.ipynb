{
 "cells": [
  {
   "cell_type": "code",
   "execution_count": 2,
   "id": "fb16e107-7cea-43be-a272-9e4597cdddd9",
   "metadata": {
    "tags": []
   },
   "outputs": [],
   "source": [
    "import matplotlib\n",
    "from matplotlib import pyplot as plt\n",
    "matplotlib.use('TkAgg')\n",
    "import seaborn as sns\n",
    "import pandas as pd"
   ]
  },
  {
   "cell_type": "markdown",
   "id": "6547f063-515f-474c-8561-510c94fa40a0",
   "metadata": {},
   "source": [
    "## Visualização 01"
   ]
  },
  {
   "cell_type": "code",
   "execution_count": 3,
   "id": "c7a72921-657c-41fd-ba02-1d94075d688d",
   "metadata": {
    "tags": []
   },
   "outputs": [
    {
     "data": {
      "text/html": [
       "<div>\n",
       "<style scoped>\n",
       "    .dataframe tbody tr th:only-of-type {\n",
       "        vertical-align: middle;\n",
       "    }\n",
       "\n",
       "    .dataframe tbody tr th {\n",
       "        vertical-align: top;\n",
       "    }\n",
       "\n",
       "    .dataframe thead th {\n",
       "        text-align: right;\n",
       "    }\n",
       "</style>\n",
       "<table border=\"1\" class=\"dataframe\">\n",
       "  <thead>\n",
       "    <tr style=\"text-align: right;\">\n",
       "      <th></th>\n",
       "      <th>arrecadacao</th>\n",
       "      <th>titulo</th>\n",
       "    </tr>\n",
       "  </thead>\n",
       "  <tbody>\n",
       "    <tr>\n",
       "      <th>0</th>\n",
       "      <td>7316746</td>\n",
       "      <td>Ferdinand</td>\n",
       "    </tr>\n",
       "    <tr>\n",
       "      <th>1</th>\n",
       "      <td>36169328</td>\n",
       "      <td>Jumanji: Welcome to the Jungle</td>\n",
       "    </tr>\n",
       "    <tr>\n",
       "      <th>2</th>\n",
       "      <td>19928525</td>\n",
       "      <td>Pitch Perfect 3</td>\n",
       "    </tr>\n",
       "    <tr>\n",
       "      <th>3</th>\n",
       "      <td>71565498</td>\n",
       "      <td>Star Wars: The Last Jedi</td>\n",
       "    </tr>\n",
       "    <tr>\n",
       "      <th>4</th>\n",
       "      <td>8805843</td>\n",
       "      <td>The Greatest Showman</td>\n",
       "    </tr>\n",
       "  </tbody>\n",
       "</table>\n",
       "</div>"
      ],
      "text/plain": [
       "   arrecadacao                          titulo\n",
       "0      7316746                       Ferdinand\n",
       "1     36169328  Jumanji: Welcome to the Jungle\n",
       "2     19928525                 Pitch Perfect 3\n",
       "3     71565498        Star Wars: The Last Jedi\n",
       "4      8805843            The Greatest Showman"
      ]
     },
     "execution_count": 3,
     "metadata": {},
     "output_type": "execute_result"
    }
   ],
   "source": [
    "df = pd.read_csv('https://gist.githubusercontent.com/omadson/770934cb0df9e2d2c3e8db031f1139a5/raw/4d181efc035b327d9d66256915951384517c603e/arrecadacao.csv')\n",
    "df.head()"
   ]
  },
  {
   "cell_type": "code",
   "execution_count": 4,
   "id": "152f6414-2488-4c7c-a9ba-2170744101fd",
   "metadata": {
    "tags": []
   },
   "outputs": [],
   "source": [
    "##Como não fazer\n",
    "ax = sns.barplot(data=df, y='arrecadacao', x='titulo')"
   ]
  },
  {
   "cell_type": "code",
   "execution_count": 6,
   "id": "0b66d5ad-6819-4f80-8e5f-65b204e20734",
   "metadata": {
    "tags": []
   },
   "outputs": [],
   "source": [
    "df = df.assign(arrecadacao_milhao = df.arrecadacao / 1000000)"
   ]
  },
  {
   "cell_type": "code",
   "execution_count": 5,
   "id": "87c136fc-ac46-420f-a25a-5b5118850cd2",
   "metadata": {
    "tags": []
   },
   "outputs": [],
   "source": [
    "df = df.sort_values(by='arrecadacao', ascending=False)"
   ]
  },
  {
   "cell_type": "code",
   "execution_count": 7,
   "id": "6fb6f5a8-f2ec-44e3-aac6-d5a6584ab11b",
   "metadata": {
    "tags": []
   },
   "outputs": [],
   "source": [
    "sns.set_style(\"whitegrid\")"
   ]
  },
  {
   "cell_type": "code",
   "execution_count": 8,
   "id": "ebefdf34-31a5-4fcc-81ff-a7db8c758aee",
   "metadata": {
    "tags": []
   },
   "outputs": [],
   "source": [
    "plt.figure(figsize=(5,2))\n",
    "ax = sns.barplot(data=df, x='arrecadacao_milhao', y='titulo', color='tomato')"
   ]
  },
  {
   "cell_type": "code",
   "execution_count": 9,
   "id": "4628139e-74d9-448f-bc3d-ecaa724287af",
   "metadata": {
    "tags": []
   },
   "outputs": [
    {
     "data": {
      "text/plain": [
       "[Text(0, 0, '71.6'),\n",
       " Text(0, 0, '36.2'),\n",
       " Text(0, 0, '19.9'),\n",
       " Text(0, 0, '8.8'),\n",
       " Text(0, 0, '7.3')]"
      ]
     },
     "execution_count": 9,
     "metadata": {},
     "output_type": "execute_result"
    }
   ],
   "source": [
    "ax.bar_label(\n",
    "    ax.containers[0],\n",
    "    fmt='%.1f',\n",
    "    label_type='center',\n",
    "    color='white'\n",
    ")"
   ]
  },
  {
   "cell_type": "code",
   "execution_count": 10,
   "id": "5b5f1ee9-d74d-489e-b411-a30bf35192f5",
   "metadata": {
    "tags": []
   },
   "outputs": [
    {
     "data": {
      "text/plain": [
       "Text(0.5, 1.0, 'Arrecadação de filmes')"
      ]
     },
     "execution_count": 10,
     "metadata": {},
     "output_type": "execute_result"
    }
   ],
   "source": [
    "plt.xlabel('Arrecadação(Milhões de Dólares)')\n",
    "plt.ylabel('Filme')\n",
    "plt.title('Arrecadação de filmes')"
   ]
  },
  {
   "cell_type": "code",
   "execution_count": 11,
   "id": "8d6a5341-3c99-4e59-8124-17b47d6ac8a1",
   "metadata": {
    "tags": []
   },
   "outputs": [
    {
     "data": {
      "text/plain": [
       "<matplotlib.lines.Line2D at 0x1800cbb0910>"
      ]
     },
     "execution_count": 11,
     "metadata": {},
     "output_type": "execute_result"
    }
   ],
   "source": [
    "ax.set(frame_on=False)\n",
    "ax.axvline(0, color=\"k\", clip_on=False)"
   ]
  },
  {
   "cell_type": "code",
   "execution_count": 12,
   "id": "890655c6-de73-4d77-8836-5fdb5fa52197",
   "metadata": {
    "tags": []
   },
   "outputs": [],
   "source": [
    "matplotlib.use( 'tkagg' ) ##Professor, tive que fazer algumas modificações no código pois o plt.show nao estava exibindo nada."
   ]
  },
  {
   "cell_type": "code",
   "execution_count": 13,
   "id": "47fd9382-e572-46da-93ae-bdc0421cc782",
   "metadata": {
    "tags": []
   },
   "outputs": [],
   "source": [
    "plt.show()"
   ]
  },
  {
   "cell_type": "markdown",
   "id": "61ec0f04-4177-4930-ab30-f8d465576ced",
   "metadata": {},
   "source": [
    "## Visualizacao 02"
   ]
  },
  {
   "cell_type": "code",
   "execution_count": 21,
   "id": "50719ff0-59ad-43bd-8d54-3ca131329b33",
   "metadata": {
    "tags": []
   },
   "outputs": [],
   "source": [
    "penguins_df = sns.load_dataset(\"penguins\")\n",
    "penguins_df.head()"
   ]
  },
  {
   "cell_type": "code",
   "execution_count": 23,
   "id": "578cdd2c-d853-485e-9e04-4545256a6994",
   "metadata": {
    "tags": []
   },
   "outputs": [],
   "source": [
    "sns.set_style(\"whitegrid\")"
   ]
  },
  {
   "cell_type": "code",
   "execution_count": 24,
   "id": "bb949bcb-2c31-4b23-a2fa-7e34c526bc6c",
   "metadata": {
    "tags": []
   },
   "outputs": [
    {
     "data": {
      "text/plain": [
       "Text(0.5, 1.0, 'Distribuição da massa dos pinguis')"
      ]
     },
     "execution_count": 24,
     "metadata": {},
     "output_type": "execute_result"
    }
   ],
   "source": [
    "ax = sns.histplot(data=penguins_df, x='body_mass_g')\n",
    "plt.ylabel('Quantidade')\n",
    "plt.xlabel('Massa (g)')\n",
    "plt.title('Distribuição da massa dos pinguis')"
   ]
  },
  {
   "cell_type": "code",
   "execution_count": 26,
   "id": "753f902a-20af-44b3-9cbb-ac471d553bac",
   "metadata": {
    "tags": []
   },
   "outputs": [],
   "source": [
    "ax.set(frame_on=False)\n",
    "ax.axhline(0, color=\"k\", clip_on=False)\n",
    "plt.show()"
   ]
  },
  {
   "cell_type": "markdown",
   "id": "753b52f1-d935-433f-80a7-9085261d7a47",
   "metadata": {},
   "source": [
    "## Visualização 03"
   ]
  },
  {
   "cell_type": "code",
   "execution_count": 27,
   "id": "01dca186-108f-4144-b0ae-6491add716e3",
   "metadata": {
    "tags": []
   },
   "outputs": [
    {
     "data": {
      "text/plain": [
       "<bound method NDFrame.head of      total_bill   tip     sex smoker   day    time  size\n",
       "0         16.99  1.01  Female     No   Sun  Dinner     2\n",
       "1         10.34  1.66    Male     No   Sun  Dinner     3\n",
       "2         21.01  3.50    Male     No   Sun  Dinner     3\n",
       "3         23.68  3.31    Male     No   Sun  Dinner     2\n",
       "4         24.59  3.61  Female     No   Sun  Dinner     4\n",
       "..          ...   ...     ...    ...   ...     ...   ...\n",
       "239       29.03  5.92    Male     No   Sat  Dinner     3\n",
       "240       27.18  2.00  Female    Yes   Sat  Dinner     2\n",
       "241       22.67  2.00    Male    Yes   Sat  Dinner     2\n",
       "242       17.82  1.75    Male     No   Sat  Dinner     2\n",
       "243       18.78  3.00  Female     No  Thur  Dinner     2\n",
       "\n",
       "[244 rows x 7 columns]>"
      ]
     },
     "execution_count": 27,
     "metadata": {},
     "output_type": "execute_result"
    }
   ],
   "source": [
    "tips_df = sns.load_dataset(\"tips\")\n",
    "tips_df.head"
   ]
  },
  {
   "cell_type": "code",
   "execution_count": 28,
   "id": "12960a9d-287f-4813-9e64-7a7f4e528aba",
   "metadata": {
    "tags": []
   },
   "outputs": [],
   "source": [
    "sns.set_style(\"whitegrid\")"
   ]
  },
  {
   "cell_type": "code",
   "execution_count": 29,
   "id": "5398c4fc-6669-4aca-88d4-020df5ee96c2",
   "metadata": {
    "tags": []
   },
   "outputs": [],
   "source": [
    "plt.figure(figsize=(6,3))\n",
    "ax = sns.boxplot(x=\"day\", y=\"total_bill\", data=tips_df, color=\"cornflowerblue\")"
   ]
  },
  {
   "cell_type": "code",
   "execution_count": 31,
   "id": "c96a8547-4e18-4615-9075-fbf666d32539",
   "metadata": {
    "tags": []
   },
   "outputs": [],
   "source": [
    "plt.ylabel('Conta(USD)')\n",
    "plt.xlabel('Dia da Semana')\n",
    "plt.title('Distribuição de gorjetas ao longo da semana')\n",
    "plt.show()"
   ]
  },
  {
   "cell_type": "code",
   "execution_count": null,
   "id": "f9100e52-5b17-4821-bf27-ed89b240aea8",
   "metadata": {},
   "outputs": [],
   "source": []
  }
 ],
 "metadata": {
  "kernelspec": {
   "display_name": "Python 3 (ipykernel)",
   "language": "python",
   "name": "python3"
  },
  "language_info": {
   "codemirror_mode": {
    "name": "ipython",
    "version": 3
   },
   "file_extension": ".py",
   "mimetype": "text/x-python",
   "name": "python",
   "nbconvert_exporter": "python",
   "pygments_lexer": "ipython3",
   "version": "3.11.5"
  }
 },
 "nbformat": 4,
 "nbformat_minor": 5
}
