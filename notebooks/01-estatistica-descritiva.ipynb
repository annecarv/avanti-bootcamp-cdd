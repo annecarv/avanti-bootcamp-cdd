{
 "cells": [
  {
   "cell_type": "markdown",
   "id": "984ee57e-e6a1-4a2b-a2f3-f23734a2b76e",
   "metadata": {},
   "source": [
    "# Análise exploratória de dados -  Tips"
   ]
  },
  {
   "cell_type": "markdown",
   "id": "c91bf82f-723e-4610-beea-c3964d661b13",
   "metadata": {
    "jp-MarkdownHeadingCollapsed": true,
    "tags": []
   },
   "source": [
    "### Código"
   ]
  },
  {
   "cell_type": "code",
   "execution_count": 151,
   "id": "c5a36f72-0d71-4276-a1e3-6b2cb86d17ff",
   "metadata": {
    "tags": []
   },
   "outputs": [],
   "source": [
    "import pandas as pd\n",
    "import seaborn as sns"
   ]
  },
  {
   "cell_type": "code",
   "execution_count": 152,
   "id": "cdedc984-6f21-4f75-9389-dce9220cdc19",
   "metadata": {
    "tags": []
   },
   "outputs": [],
   "source": [
    "tips_df =  sns.load_dataset('tips')"
   ]
  },
  {
   "cell_type": "code",
   "execution_count": 153,
   "id": "0be91fe8-d55e-4e34-8edf-b10ceb50b7e8",
   "metadata": {
    "tags": []
   },
   "outputs": [
    {
     "data": {
      "text/html": [
       "<div>\n",
       "<style scoped>\n",
       "    .dataframe tbody tr th:only-of-type {\n",
       "        vertical-align: middle;\n",
       "    }\n",
       "\n",
       "    .dataframe tbody tr th {\n",
       "        vertical-align: top;\n",
       "    }\n",
       "\n",
       "    .dataframe thead th {\n",
       "        text-align: right;\n",
       "    }\n",
       "</style>\n",
       "<table border=\"1\" class=\"dataframe\">\n",
       "  <thead>\n",
       "    <tr style=\"text-align: right;\">\n",
       "      <th></th>\n",
       "      <th>total_bill</th>\n",
       "      <th>tip</th>\n",
       "      <th>sex</th>\n",
       "      <th>smoker</th>\n",
       "      <th>day</th>\n",
       "      <th>time</th>\n",
       "      <th>size</th>\n",
       "    </tr>\n",
       "  </thead>\n",
       "  <tbody>\n",
       "    <tr>\n",
       "      <th>0</th>\n",
       "      <td>16.99</td>\n",
       "      <td>1.01</td>\n",
       "      <td>Female</td>\n",
       "      <td>No</td>\n",
       "      <td>Sun</td>\n",
       "      <td>Dinner</td>\n",
       "      <td>2</td>\n",
       "    </tr>\n",
       "    <tr>\n",
       "      <th>1</th>\n",
       "      <td>10.34</td>\n",
       "      <td>1.66</td>\n",
       "      <td>Male</td>\n",
       "      <td>No</td>\n",
       "      <td>Sun</td>\n",
       "      <td>Dinner</td>\n",
       "      <td>3</td>\n",
       "    </tr>\n",
       "    <tr>\n",
       "      <th>2</th>\n",
       "      <td>21.01</td>\n",
       "      <td>3.50</td>\n",
       "      <td>Male</td>\n",
       "      <td>No</td>\n",
       "      <td>Sun</td>\n",
       "      <td>Dinner</td>\n",
       "      <td>3</td>\n",
       "    </tr>\n",
       "    <tr>\n",
       "      <th>3</th>\n",
       "      <td>23.68</td>\n",
       "      <td>3.31</td>\n",
       "      <td>Male</td>\n",
       "      <td>No</td>\n",
       "      <td>Sun</td>\n",
       "      <td>Dinner</td>\n",
       "      <td>2</td>\n",
       "    </tr>\n",
       "    <tr>\n",
       "      <th>4</th>\n",
       "      <td>24.59</td>\n",
       "      <td>3.61</td>\n",
       "      <td>Female</td>\n",
       "      <td>No</td>\n",
       "      <td>Sun</td>\n",
       "      <td>Dinner</td>\n",
       "      <td>4</td>\n",
       "    </tr>\n",
       "    <tr>\n",
       "      <th>...</th>\n",
       "      <td>...</td>\n",
       "      <td>...</td>\n",
       "      <td>...</td>\n",
       "      <td>...</td>\n",
       "      <td>...</td>\n",
       "      <td>...</td>\n",
       "      <td>...</td>\n",
       "    </tr>\n",
       "    <tr>\n",
       "      <th>239</th>\n",
       "      <td>29.03</td>\n",
       "      <td>5.92</td>\n",
       "      <td>Male</td>\n",
       "      <td>No</td>\n",
       "      <td>Sat</td>\n",
       "      <td>Dinner</td>\n",
       "      <td>3</td>\n",
       "    </tr>\n",
       "    <tr>\n",
       "      <th>240</th>\n",
       "      <td>27.18</td>\n",
       "      <td>2.00</td>\n",
       "      <td>Female</td>\n",
       "      <td>Yes</td>\n",
       "      <td>Sat</td>\n",
       "      <td>Dinner</td>\n",
       "      <td>2</td>\n",
       "    </tr>\n",
       "    <tr>\n",
       "      <th>241</th>\n",
       "      <td>22.67</td>\n",
       "      <td>2.00</td>\n",
       "      <td>Male</td>\n",
       "      <td>Yes</td>\n",
       "      <td>Sat</td>\n",
       "      <td>Dinner</td>\n",
       "      <td>2</td>\n",
       "    </tr>\n",
       "    <tr>\n",
       "      <th>242</th>\n",
       "      <td>17.82</td>\n",
       "      <td>1.75</td>\n",
       "      <td>Male</td>\n",
       "      <td>No</td>\n",
       "      <td>Sat</td>\n",
       "      <td>Dinner</td>\n",
       "      <td>2</td>\n",
       "    </tr>\n",
       "    <tr>\n",
       "      <th>243</th>\n",
       "      <td>18.78</td>\n",
       "      <td>3.00</td>\n",
       "      <td>Female</td>\n",
       "      <td>No</td>\n",
       "      <td>Thur</td>\n",
       "      <td>Dinner</td>\n",
       "      <td>2</td>\n",
       "    </tr>\n",
       "  </tbody>\n",
       "</table>\n",
       "<p>244 rows × 7 columns</p>\n",
       "</div>"
      ],
      "text/plain": [
       "     total_bill   tip     sex smoker   day    time  size\n",
       "0         16.99  1.01  Female     No   Sun  Dinner     2\n",
       "1         10.34  1.66    Male     No   Sun  Dinner     3\n",
       "2         21.01  3.50    Male     No   Sun  Dinner     3\n",
       "3         23.68  3.31    Male     No   Sun  Dinner     2\n",
       "4         24.59  3.61  Female     No   Sun  Dinner     4\n",
       "..          ...   ...     ...    ...   ...     ...   ...\n",
       "239       29.03  5.92    Male     No   Sat  Dinner     3\n",
       "240       27.18  2.00  Female    Yes   Sat  Dinner     2\n",
       "241       22.67  2.00    Male    Yes   Sat  Dinner     2\n",
       "242       17.82  1.75    Male     No   Sat  Dinner     2\n",
       "243       18.78  3.00  Female     No  Thur  Dinner     2\n",
       "\n",
       "[244 rows x 7 columns]"
      ]
     },
     "execution_count": 153,
     "metadata": {},
     "output_type": "execute_result"
    }
   ],
   "source": [
    "tips_df"
   ]
  },
  {
   "cell_type": "code",
   "execution_count": 154,
   "id": "8c0d36df-dcdd-438d-8af5-d8da21ccf77c",
   "metadata": {
    "tags": []
   },
   "outputs": [],
   "source": [
    "dict_info_tips = pd.DataFrame([\n",
    "    {\"variavel\": \"total_bill\" ,\n",
    "     \"descricao\": \"Valor total da conta\",\n",
    "     \"tipo\": \"Quantitativa\" , \n",
    "     \"subtipo\": \"Contínua\"\n",
    "    } ,\n",
    "    {\n",
    "     \"variavel\": \"tip\" ,\n",
    "     \"descricao\": \"Valor total da gorjeta\",\n",
    "     \"tipo\": \"Quantitativa\" , \n",
    "     \"subtipo\": \"Contínua\"\n",
    "    } ,\n",
    "    {\n",
    "     \"variavel\": \"sex\" ,\n",
    "     \"descricao\": \"Gênero do cliente\",\n",
    "     \"tipo\": \"Qualitativa\" , \n",
    "     \"subtipo\": \"Nominal\"\n",
    "    } ,\n",
    "    {\n",
    "     \"variavel\": \"smoker\" ,\n",
    "     \"descricao\": \"Classifica se o cliente é fumante ou não\",\n",
    "     \"tipo\": \"Qualitativa\" , \n",
    "     \"subtipo\": \"Nominal\"\n",
    "    } ,\n",
    "    {\n",
    "     \"variavel\": \"day\" ,\n",
    "     \"descricao\": \"Dia que o cliente compareceu\",\n",
    "     \"tipo\": \"Qualitativa\" , \n",
    "     \"subtipo\": \"Nominal\"\n",
    "    } ,\n",
    "    {\n",
    "     \"variavel\": \"time\" ,\n",
    "     \"descricao\": \"Período em que o cliente consumiu\",\n",
    "     \"tipo\": \"Qualitativa\" , \n",
    "     \"subtipo\": \"Nominal\"\n",
    "    } ,\n",
    "    {\n",
    "     \"variavel\": \"size\" ,\n",
    "     \"descricao\": \"Quantidade de Clientes na mesa\",\n",
    "     \"tipo\": \"Quantitativa\" , \n",
    "     \"subtipo\": \"Discreta\"\n",
    "    } \n",
    "     \n",
    "])"
   ]
  },
  {
   "cell_type": "code",
   "execution_count": 155,
   "id": "4b65041c-5f9c-410a-a6a3-3860f8b1ee38",
   "metadata": {
    "tags": []
   },
   "outputs": [],
   "source": [
    "tips_df_numericos = tips_df.select_dtypes(include=['float64', 'int64'])"
   ]
  },
  {
   "cell_type": "code",
   "execution_count": 156,
   "id": "ce9c27e3-a9c1-47be-be3c-d6481308ba1b",
   "metadata": {
    "tags": []
   },
   "outputs": [],
   "source": [
    "media = tips_df_numericos.mean()"
   ]
  },
  {
   "cell_type": "code",
   "execution_count": 157,
   "id": "25f7b0e4-0355-4854-bd27-a5d91c1295d0",
   "metadata": {
    "tags": []
   },
   "outputs": [],
   "source": [
    "mediana = tips_df_numericos.median()"
   ]
  },
  {
   "cell_type": "code",
   "execution_count": 158,
   "id": "3ea21be4-8f2a-4ee3-b3a7-c3925f6efb4e",
   "metadata": {
    "tags": []
   },
   "outputs": [],
   "source": [
    "moda = tips_df_numericos.mode().iloc[0]"
   ]
  },
  {
   "cell_type": "code",
   "execution_count": 159,
   "id": "5bc7ba90-77a0-4130-ac7e-2a68ef81a02b",
   "metadata": {
    "tags": []
   },
   "outputs": [],
   "source": [
    "medidas_centrais = pd.DataFrame({\n",
    "    'media': media,\n",
    "    'mediana': mediana,\n",
    "    'moda': moda,\n",
    "})"
   ]
  },
  {
   "cell_type": "code",
   "execution_count": 160,
   "id": "b209259b-1dfe-415f-a4ad-b0b6155620e6",
   "metadata": {
    "tags": []
   },
   "outputs": [],
   "source": [
    "variancia = tips_df_numericos.var()"
   ]
  },
  {
   "cell_type": "code",
   "execution_count": 161,
   "id": "b16f9441-ceb6-47ff-826d-c2bb00bf1851",
   "metadata": {
    "tags": []
   },
   "outputs": [],
   "source": [
    "desvio_padrao = tips_df_numericos.std()"
   ]
  },
  {
   "cell_type": "code",
   "execution_count": 162,
   "id": "26d602ca-a124-450c-bba4-ba3cf5ea939b",
   "metadata": {
    "tags": []
   },
   "outputs": [],
   "source": [
    "q1 =  tips_df_numericos.quantile(0.25)\n",
    "q3 =  tips_df_numericos.quantile(0.75)\n",
    "iqr = q3 - q1"
   ]
  },
  {
   "cell_type": "code",
   "execution_count": 163,
   "id": "8b02a2dc-cc47-41c7-be1c-623e76f370f2",
   "metadata": {
    "tags": []
   },
   "outputs": [],
   "source": [
    "intervalo =  tips_df_numericos.max() -  tips_df_numericos.min()"
   ]
  },
  {
   "cell_type": "code",
   "execution_count": 164,
   "id": "f43bb8a3-d223-4908-90c8-cb87535a98fa",
   "metadata": {
    "tags": []
   },
   "outputs": [],
   "source": [
    "medidas_dispersao = pd.DataFrame({\n",
    "    'desvio_padrao': desvio_padrao,\n",
    "    'IQR': iqr,\n",
    "    'intervalo': intervalo,\n",
    "    'variancia': variancia\n",
    "})"
   ]
  },
  {
   "cell_type": "code",
   "execution_count": 165,
   "id": "9f01ba3e-b2d9-400f-ad6c-77097951d2f5",
   "metadata": {
    "tags": []
   },
   "outputs": [],
   "source": [
    "tips_dfs_modas = pd.DataFrame()\n",
    "tips_dfs_modas = pd.DataFrame(tips_dfs_modas)"
   ]
  },
  {
   "cell_type": "code",
   "execution_count": 166,
   "id": "8958e37c-400b-4184-9b28-5ddb3d9448d3",
   "metadata": {
    "tags": []
   },
   "outputs": [],
   "source": [
    "moda_genero = tips_df['sex'].mode()\n",
    "moda_fumantes = tips_df['smoker'].mode()\n",
    "moda_dia = tips_df['day'].mode()\n",
    "moda_periodo = tips_df['time'].mode()"
   ]
  },
  {
   "cell_type": "code",
   "execution_count": 167,
   "id": "ad97507f-e04f-4986-b396-cce3133f28f6",
   "metadata": {
    "tags": []
   },
   "outputs": [],
   "source": [
    "tips_dfs_modas['moda_genero'] = moda_genero\n",
    "tips_dfs_modas['moda_fumantes'] = moda_fumantes\n",
    "tips_dfs_modas['moda_dia'] = moda_dia\n",
    "tips_dfs_modas['moda_periodo'] = moda_periodo"
   ]
  },
  {
   "cell_type": "markdown",
   "id": "d39c11d4-8183-4a45-b939-8f4dd2eca4a6",
   "metadata": {},
   "source": [
    "## 1. Descrição dos dados\n"
   ]
  },
  {
   "cell_type": "code",
   "execution_count": 168,
   "id": "7c302938-a3aa-4743-a7d1-46b499153d5c",
   "metadata": {
    "tags": []
   },
   "outputs": [
    {
     "data": {
      "text/html": [
       "<div>\n",
       "<style scoped>\n",
       "    .dataframe tbody tr th:only-of-type {\n",
       "        vertical-align: middle;\n",
       "    }\n",
       "\n",
       "    .dataframe tbody tr th {\n",
       "        vertical-align: top;\n",
       "    }\n",
       "\n",
       "    .dataframe thead th {\n",
       "        text-align: right;\n",
       "    }\n",
       "</style>\n",
       "<table border=\"1\" class=\"dataframe\">\n",
       "  <thead>\n",
       "    <tr style=\"text-align: right;\">\n",
       "      <th></th>\n",
       "      <th>variavel</th>\n",
       "      <th>descricao</th>\n",
       "      <th>tipo</th>\n",
       "      <th>subtipo</th>\n",
       "    </tr>\n",
       "  </thead>\n",
       "  <tbody>\n",
       "    <tr>\n",
       "      <th>0</th>\n",
       "      <td>total_bill</td>\n",
       "      <td>Valor total da conta</td>\n",
       "      <td>Quantitativa</td>\n",
       "      <td>Contínua</td>\n",
       "    </tr>\n",
       "    <tr>\n",
       "      <th>1</th>\n",
       "      <td>tip</td>\n",
       "      <td>Valor total da gorjeta</td>\n",
       "      <td>Quantitativa</td>\n",
       "      <td>Contínua</td>\n",
       "    </tr>\n",
       "    <tr>\n",
       "      <th>2</th>\n",
       "      <td>sex</td>\n",
       "      <td>Gênero do cliente</td>\n",
       "      <td>Qualitativa</td>\n",
       "      <td>Nominal</td>\n",
       "    </tr>\n",
       "    <tr>\n",
       "      <th>3</th>\n",
       "      <td>smoker</td>\n",
       "      <td>Classifica se o cliente é fumante ou não</td>\n",
       "      <td>Qualitativa</td>\n",
       "      <td>Nominal</td>\n",
       "    </tr>\n",
       "    <tr>\n",
       "      <th>4</th>\n",
       "      <td>day</td>\n",
       "      <td>Dia que o cliente compareceu</td>\n",
       "      <td>Qualitativa</td>\n",
       "      <td>Nominal</td>\n",
       "    </tr>\n",
       "    <tr>\n",
       "      <th>5</th>\n",
       "      <td>time</td>\n",
       "      <td>Período em que o cliente consumiu</td>\n",
       "      <td>Qualitativa</td>\n",
       "      <td>Nominal</td>\n",
       "    </tr>\n",
       "    <tr>\n",
       "      <th>6</th>\n",
       "      <td>size</td>\n",
       "      <td>Quantidade de Clientes na mesa</td>\n",
       "      <td>Quantitativa</td>\n",
       "      <td>Discreta</td>\n",
       "    </tr>\n",
       "  </tbody>\n",
       "</table>\n",
       "</div>"
      ],
      "text/plain": [
       "     variavel                                 descricao          tipo  \\\n",
       "0  total_bill                      Valor total da conta  Quantitativa   \n",
       "1         tip                    Valor total da gorjeta  Quantitativa   \n",
       "2         sex                         Gênero do cliente   Qualitativa   \n",
       "3      smoker  Classifica se o cliente é fumante ou não   Qualitativa   \n",
       "4         day              Dia que o cliente compareceu   Qualitativa   \n",
       "5        time         Período em que o cliente consumiu   Qualitativa   \n",
       "6        size            Quantidade de Clientes na mesa  Quantitativa   \n",
       "\n",
       "    subtipo  \n",
       "0  Contínua  \n",
       "1  Contínua  \n",
       "2   Nominal  \n",
       "3   Nominal  \n",
       "4   Nominal  \n",
       "5   Nominal  \n",
       "6  Discreta  "
      ]
     },
     "execution_count": 168,
     "metadata": {},
     "output_type": "execute_result"
    }
   ],
   "source": [
    "dict_info_tips"
   ]
  },
  {
   "cell_type": "code",
   "execution_count": 169,
   "id": "8bdd30f7-78c2-4c2d-84f7-98a3b738bf5a",
   "metadata": {
    "tags": []
   },
   "outputs": [
    {
     "data": {
      "text/html": [
       "<div>\n",
       "<style scoped>\n",
       "    .dataframe tbody tr th:only-of-type {\n",
       "        vertical-align: middle;\n",
       "    }\n",
       "\n",
       "    .dataframe tbody tr th {\n",
       "        vertical-align: top;\n",
       "    }\n",
       "\n",
       "    .dataframe thead th {\n",
       "        text-align: right;\n",
       "    }\n",
       "</style>\n",
       "<table border=\"1\" class=\"dataframe\">\n",
       "  <thead>\n",
       "    <tr style=\"text-align: right;\">\n",
       "      <th></th>\n",
       "      <th>media</th>\n",
       "      <th>mediana</th>\n",
       "      <th>moda</th>\n",
       "    </tr>\n",
       "  </thead>\n",
       "  <tbody>\n",
       "    <tr>\n",
       "      <th>total_bill</th>\n",
       "      <td>19.785943</td>\n",
       "      <td>17.795</td>\n",
       "      <td>13.42</td>\n",
       "    </tr>\n",
       "    <tr>\n",
       "      <th>tip</th>\n",
       "      <td>2.998279</td>\n",
       "      <td>2.900</td>\n",
       "      <td>2.00</td>\n",
       "    </tr>\n",
       "    <tr>\n",
       "      <th>size</th>\n",
       "      <td>2.569672</td>\n",
       "      <td>2.000</td>\n",
       "      <td>2.00</td>\n",
       "    </tr>\n",
       "  </tbody>\n",
       "</table>\n",
       "</div>"
      ],
      "text/plain": [
       "                media  mediana   moda\n",
       "total_bill  19.785943   17.795  13.42\n",
       "tip          2.998279    2.900   2.00\n",
       "size         2.569672    2.000   2.00"
      ]
     },
     "execution_count": 169,
     "metadata": {},
     "output_type": "execute_result"
    }
   ],
   "source": [
    "medidas_centrais"
   ]
  },
  {
   "cell_type": "code",
   "execution_count": 170,
   "id": "7001c8c4-3775-45b7-ac71-d72c8580dc3d",
   "metadata": {
    "tags": []
   },
   "outputs": [
    {
     "data": {
      "text/html": [
       "<div>\n",
       "<style scoped>\n",
       "    .dataframe tbody tr th:only-of-type {\n",
       "        vertical-align: middle;\n",
       "    }\n",
       "\n",
       "    .dataframe tbody tr th {\n",
       "        vertical-align: top;\n",
       "    }\n",
       "\n",
       "    .dataframe thead th {\n",
       "        text-align: right;\n",
       "    }\n",
       "</style>\n",
       "<table border=\"1\" class=\"dataframe\">\n",
       "  <thead>\n",
       "    <tr style=\"text-align: right;\">\n",
       "      <th></th>\n",
       "      <th>desvio_padrao</th>\n",
       "      <th>IQR</th>\n",
       "      <th>intervalo</th>\n",
       "      <th>variancia</th>\n",
       "    </tr>\n",
       "  </thead>\n",
       "  <tbody>\n",
       "    <tr>\n",
       "      <th>total_bill</th>\n",
       "      <td>8.902412</td>\n",
       "      <td>10.7800</td>\n",
       "      <td>47.74</td>\n",
       "      <td>79.252939</td>\n",
       "    </tr>\n",
       "    <tr>\n",
       "      <th>tip</th>\n",
       "      <td>1.383638</td>\n",
       "      <td>1.5625</td>\n",
       "      <td>9.00</td>\n",
       "      <td>1.914455</td>\n",
       "    </tr>\n",
       "    <tr>\n",
       "      <th>size</th>\n",
       "      <td>0.951100</td>\n",
       "      <td>1.0000</td>\n",
       "      <td>5.00</td>\n",
       "      <td>0.904591</td>\n",
       "    </tr>\n",
       "  </tbody>\n",
       "</table>\n",
       "</div>"
      ],
      "text/plain": [
       "            desvio_padrao      IQR  intervalo  variancia\n",
       "total_bill       8.902412  10.7800      47.74  79.252939\n",
       "tip              1.383638   1.5625       9.00   1.914455\n",
       "size             0.951100   1.0000       5.00   0.904591"
      ]
     },
     "execution_count": 170,
     "metadata": {},
     "output_type": "execute_result"
    }
   ],
   "source": [
    "medidas_dispersao"
   ]
  },
  {
   "cell_type": "code",
   "execution_count": 171,
   "id": "f6ad7983-9cf0-41cb-85bd-224d707dbe68",
   "metadata": {
    "tags": []
   },
   "outputs": [
    {
     "data": {
      "text/html": [
       "<div>\n",
       "<style scoped>\n",
       "    .dataframe tbody tr th:only-of-type {\n",
       "        vertical-align: middle;\n",
       "    }\n",
       "\n",
       "    .dataframe tbody tr th {\n",
       "        vertical-align: top;\n",
       "    }\n",
       "\n",
       "    .dataframe thead th {\n",
       "        text-align: right;\n",
       "    }\n",
       "</style>\n",
       "<table border=\"1\" class=\"dataframe\">\n",
       "  <thead>\n",
       "    <tr style=\"text-align: right;\">\n",
       "      <th></th>\n",
       "      <th>moda_genero</th>\n",
       "      <th>moda_fumantes</th>\n",
       "      <th>moda_dia</th>\n",
       "      <th>moda_periodo</th>\n",
       "    </tr>\n",
       "  </thead>\n",
       "  <tbody>\n",
       "    <tr>\n",
       "      <th>0</th>\n",
       "      <td>Male</td>\n",
       "      <td>No</td>\n",
       "      <td>Sat</td>\n",
       "      <td>Dinner</td>\n",
       "    </tr>\n",
       "  </tbody>\n",
       "</table>\n",
       "</div>"
      ],
      "text/plain": [
       "  moda_genero moda_fumantes moda_dia moda_periodo\n",
       "0        Male            No      Sat       Dinner"
      ]
     },
     "execution_count": 171,
     "metadata": {},
     "output_type": "execute_result"
    }
   ],
   "source": [
    "tips_dfs_modas"
   ]
  },
  {
   "cell_type": "markdown",
   "id": "ab34ad4f-ae58-4689-a060-776d9557fbce",
   "metadata": {
    "tags": []
   },
   "source": [
    "## 2. Perguntas de partida e hipóteses"
   ]
  },
  {
   "cell_type": "markdown",
   "id": "aab84ae5-ed88-42ea-83e3-76baad8a1104",
   "metadata": {},
   "source": [
    "### 1. Em quais variáveis o desvio padrão é maior?\n",
    "### 2. Qual dia aparece com mais frequência?\n",
    "### 3. Há algum valor discrepante?"
   ]
  },
  {
   "cell_type": "markdown",
   "id": "341e77ce-4781-4d6a-a421-1055b6da4cf2",
   "metadata": {},
   "source": [
    "## 3. Insights"
   ]
  },
  {
   "cell_type": "markdown",
   "id": "c1a30ca9-122d-46d5-ae76-7a3ca1172d63",
   "metadata": {},
   "source": [
    "### 1. O desvio padrão é maior nas variáveis total_bill e no size.\n",
    "### 2. O dia que aparece com mais frequência é o sábado. \n",
    "### 3. O desvio padrao de total_bill é bem distante da média do mesmo."
   ]
  },
  {
   "cell_type": "markdown",
   "id": "17dd6ced-5867-4123-b0ed-57a205968f51",
   "metadata": {
    "tags": []
   },
   "source": [
    "# Análise exploratória de dados -  Titanic"
   ]
  },
  {
   "cell_type": "markdown",
   "id": "72bc0b16-5ff0-46dd-9b07-a08d14766d2a",
   "metadata": {
    "jp-MarkdownHeadingCollapsed": true,
    "tags": []
   },
   "source": [
    "### Código"
   ]
  },
  {
   "cell_type": "code",
   "execution_count": 172,
   "id": "3ba72560-c99b-475c-8444-b7ac6d0d8982",
   "metadata": {
    "tags": []
   },
   "outputs": [],
   "source": [
    "titanic_df =  sns.load_dataset('titanic')"
   ]
  },
  {
   "cell_type": "code",
   "execution_count": 173,
   "id": "380b0296-b4bd-426a-8423-f7d2c6730184",
   "metadata": {
    "tags": []
   },
   "outputs": [
    {
     "data": {
      "text/html": [
       "<div>\n",
       "<style scoped>\n",
       "    .dataframe tbody tr th:only-of-type {\n",
       "        vertical-align: middle;\n",
       "    }\n",
       "\n",
       "    .dataframe tbody tr th {\n",
       "        vertical-align: top;\n",
       "    }\n",
       "\n",
       "    .dataframe thead th {\n",
       "        text-align: right;\n",
       "    }\n",
       "</style>\n",
       "<table border=\"1\" class=\"dataframe\">\n",
       "  <thead>\n",
       "    <tr style=\"text-align: right;\">\n",
       "      <th></th>\n",
       "      <th>survived</th>\n",
       "      <th>pclass</th>\n",
       "      <th>sex</th>\n",
       "      <th>age</th>\n",
       "      <th>sibsp</th>\n",
       "      <th>parch</th>\n",
       "      <th>fare</th>\n",
       "      <th>embarked</th>\n",
       "      <th>class</th>\n",
       "      <th>who</th>\n",
       "      <th>adult_male</th>\n",
       "      <th>deck</th>\n",
       "      <th>embark_town</th>\n",
       "      <th>alive</th>\n",
       "      <th>alone</th>\n",
       "    </tr>\n",
       "  </thead>\n",
       "  <tbody>\n",
       "    <tr>\n",
       "      <th>0</th>\n",
       "      <td>0</td>\n",
       "      <td>3</td>\n",
       "      <td>male</td>\n",
       "      <td>22.0</td>\n",
       "      <td>1</td>\n",
       "      <td>0</td>\n",
       "      <td>7.2500</td>\n",
       "      <td>S</td>\n",
       "      <td>Third</td>\n",
       "      <td>man</td>\n",
       "      <td>True</td>\n",
       "      <td>NaN</td>\n",
       "      <td>Southampton</td>\n",
       "      <td>no</td>\n",
       "      <td>False</td>\n",
       "    </tr>\n",
       "    <tr>\n",
       "      <th>1</th>\n",
       "      <td>1</td>\n",
       "      <td>1</td>\n",
       "      <td>female</td>\n",
       "      <td>38.0</td>\n",
       "      <td>1</td>\n",
       "      <td>0</td>\n",
       "      <td>71.2833</td>\n",
       "      <td>C</td>\n",
       "      <td>First</td>\n",
       "      <td>woman</td>\n",
       "      <td>False</td>\n",
       "      <td>C</td>\n",
       "      <td>Cherbourg</td>\n",
       "      <td>yes</td>\n",
       "      <td>False</td>\n",
       "    </tr>\n",
       "    <tr>\n",
       "      <th>2</th>\n",
       "      <td>1</td>\n",
       "      <td>3</td>\n",
       "      <td>female</td>\n",
       "      <td>26.0</td>\n",
       "      <td>0</td>\n",
       "      <td>0</td>\n",
       "      <td>7.9250</td>\n",
       "      <td>S</td>\n",
       "      <td>Third</td>\n",
       "      <td>woman</td>\n",
       "      <td>False</td>\n",
       "      <td>NaN</td>\n",
       "      <td>Southampton</td>\n",
       "      <td>yes</td>\n",
       "      <td>True</td>\n",
       "    </tr>\n",
       "    <tr>\n",
       "      <th>3</th>\n",
       "      <td>1</td>\n",
       "      <td>1</td>\n",
       "      <td>female</td>\n",
       "      <td>35.0</td>\n",
       "      <td>1</td>\n",
       "      <td>0</td>\n",
       "      <td>53.1000</td>\n",
       "      <td>S</td>\n",
       "      <td>First</td>\n",
       "      <td>woman</td>\n",
       "      <td>False</td>\n",
       "      <td>C</td>\n",
       "      <td>Southampton</td>\n",
       "      <td>yes</td>\n",
       "      <td>False</td>\n",
       "    </tr>\n",
       "    <tr>\n",
       "      <th>4</th>\n",
       "      <td>0</td>\n",
       "      <td>3</td>\n",
       "      <td>male</td>\n",
       "      <td>35.0</td>\n",
       "      <td>0</td>\n",
       "      <td>0</td>\n",
       "      <td>8.0500</td>\n",
       "      <td>S</td>\n",
       "      <td>Third</td>\n",
       "      <td>man</td>\n",
       "      <td>True</td>\n",
       "      <td>NaN</td>\n",
       "      <td>Southampton</td>\n",
       "      <td>no</td>\n",
       "      <td>True</td>\n",
       "    </tr>\n",
       "  </tbody>\n",
       "</table>\n",
       "</div>"
      ],
      "text/plain": [
       "   survived  pclass     sex   age  sibsp  parch     fare embarked  class  \\\n",
       "0         0       3    male  22.0      1      0   7.2500        S  Third   \n",
       "1         1       1  female  38.0      1      0  71.2833        C  First   \n",
       "2         1       3  female  26.0      0      0   7.9250        S  Third   \n",
       "3         1       1  female  35.0      1      0  53.1000        S  First   \n",
       "4         0       3    male  35.0      0      0   8.0500        S  Third   \n",
       "\n",
       "     who  adult_male deck  embark_town alive  alone  \n",
       "0    man        True  NaN  Southampton    no  False  \n",
       "1  woman       False    C    Cherbourg   yes  False  \n",
       "2  woman       False  NaN  Southampton   yes   True  \n",
       "3  woman       False    C  Southampton   yes  False  \n",
       "4    man        True  NaN  Southampton    no   True  "
      ]
     },
     "execution_count": 173,
     "metadata": {},
     "output_type": "execute_result"
    }
   ],
   "source": [
    "titanic_df.head()"
   ]
  },
  {
   "cell_type": "code",
   "execution_count": 174,
   "id": "b22acddc-7814-4db2-97c5-4fadef7ee93c",
   "metadata": {
    "tags": []
   },
   "outputs": [
    {
     "data": {
      "text/plain": [
       "Index(['survived', 'pclass', 'sex', 'age', 'sibsp', 'parch', 'fare',\n",
       "       'embarked', 'class', 'who', 'adult_male', 'deck', 'embark_town',\n",
       "       'alive', 'alone'],\n",
       "      dtype='object')"
      ]
     },
     "execution_count": 174,
     "metadata": {},
     "output_type": "execute_result"
    }
   ],
   "source": [
    "titanic_df.columns"
   ]
  },
  {
   "cell_type": "code",
   "execution_count": 175,
   "id": "9eb84305-a796-4bc4-bd14-6dca9fc08587",
   "metadata": {
    "tags": []
   },
   "outputs": [],
   "source": [
    "dict_info_titanic = pd.DataFrame([\n",
    "    {\"variavel\": \"survived\" ,\n",
    "     \"descricao\": \"Valor Booleano indicando se é sobrevivente ou não\",\n",
    "     \"tipo\": \"Quantitativa\" , \n",
    "     \"subtipo\": \"Discreta\"\n",
    "    } ,\n",
    "    {\"variavel\": \"pclass\" ,\n",
    "     \"descricao\": \"Valor referente a classe\",\n",
    "     \"tipo\": \"Quantitativa\" , \n",
    "     \"subtipo\": \"Discreta\"\n",
    "    } ,\n",
    "    {\"variavel\": \"sex\" ,\n",
    "     \"descricao\": \"Sexo do passageiro\",\n",
    "     \"tipo\": \"Qualitativa\" , \n",
    "     \"subtipo\": \"Nominal\"\n",
    "    } ,\n",
    "    {\"variavel\": \"age\" ,\n",
    "     \"descricao\": \"Idade do Passageiro\",\n",
    "     \"tipo\": \"Quantitativa\" , \n",
    "     \"subtipo\": \"Discreta\"\n",
    "    } ,\n",
    "    {\"variavel\": \"sibsp\" ,\n",
    "     \"descricao\": \"É referente ao número de irmãos e cônjuges a bordo, para cada passageiro\",\n",
    "     \"tipo\": \"Quantitativa\" , \n",
    "     \"subtipo\": \"Discreta\"\n",
    "    } ,\n",
    "    \n",
    "    {\"variavel\": \"parch\" ,\n",
    "     \"descricao\": \"É referente ao número de pais e filhos a bordo, para cada passageiro\",\n",
    "     \"tipo\": \"Quantitativa\" , \n",
    "     \"subtipo\": \"Discreta\"\n",
    "    } ,\n",
    "    \n",
    "    {\"variavel\": \"fare\" ,\n",
    "     \"descricao\": \"Tarifa paga pelo passageiro\",\n",
    "     \"tipo\": \"Quantitativa\" , \n",
    "     \"subtipo\": \"Contínua\"\n",
    "    } ,\n",
    "    \n",
    "    {\"variavel\": \"embarked\" ,\n",
    "     \"descricao\": \"Ponto de embarque do passageiro, podendo ser C (Cherboug, França), Q(Queenstown, Irlanda) ou S (Southampton, Reino Unido)\",\n",
    "     \"tipo\": \"Qualitativa\" , \n",
    "     \"subtipo\": \"Nominal\"\n",
    "    } ,\n",
    "    \n",
    "    {\"variavel\": \"class\" ,\n",
    "     \"descricao\": \"Classe do passageiro\",\n",
    "     \"tipo\": \"Qualitativa\" , \n",
    "     \"subtipo\": \"Ordinal\"\n",
    "    } ,\n",
    "    \n",
    "    {\"variavel\": \"who\" ,\n",
    "     \"descricao\": \"Gênero do passageiro\",\n",
    "     \"tipo\": \"Qualitativa\" , \n",
    "     \"subtipo\": \"Nominal\"\n",
    "    } ,\n",
    "\n",
    "    {\"variavel\": \"adult_male\" ,\n",
    "     \"descricao\": \"Variável booleana que indica se o passageiro é adulto ou não\",\n",
    "     \"tipo\": \"Qualitativa\" , \n",
    "     \"subtipo\": \"Nominal\"\n",
    "    } ,\n",
    "    \n",
    "    {\"variavel\": \"deck\" ,\n",
    "     \"descricao\": \"Indica o deck que o passageiro estava\",\n",
    "     \"tipo\": \"Qualitativa\" , \n",
    "     \"subtipo\": \"Ordinal\"\n",
    "    } ,\n",
    "    \n",
    "    {\"variavel\": \"embark_town\" ,\n",
    "      \"descricao\": \"Ponto de embarque do passageiro, podendo ser Cherboug, Queenstown ou S Southampton\",\n",
    "     \"tipo\": \"Qualitativa\" , \n",
    "     \"subtipo\": \"Nominal\"\n",
    "    } ,\n",
    "    \n",
    "    {\"variavel\": \"alive\" ,\n",
    "     \"descricao\": \"Indica se o passageiro sobreviveu ou não\",\n",
    "     \"tipo\": \"Qualitativa\" , \n",
    "     \"subtipo\": \"Nominal\"\n",
    "    } ,\n",
    "    \n",
    "    {\"variavel\": \"alone\" ,\n",
    "     \"descricao\": \"Indica se o passageiro estava acompanhado ou não\",\n",
    "     \"tipo\": \"Qualitativa\" , \n",
    "     \"subtipo\": \"Nominal\"\n",
    "    } \n",
    "\n",
    "])"
   ]
  },
  {
   "cell_type": "code",
   "execution_count": 177,
   "id": "d05164f0-0ccb-4b33-bfdd-09499542bd64",
   "metadata": {
    "tags": []
   },
   "outputs": [],
   "source": [
    "titanic_df_numericos = titanic_df.select_dtypes(include=['float64', 'int64'])"
   ]
  },
  {
   "cell_type": "code",
   "execution_count": 178,
   "id": "cdf74c1c-827b-472a-83d7-d541b0933681",
   "metadata": {
    "tags": []
   },
   "outputs": [],
   "source": [
    "media_titanic = titanic_df_numericos.mean(numeric_only=True)\n",
    "mediana_titanic = titanic_df_numericos.median(numeric_only=True)\n",
    "moda_titanic = titanic_df_numericos.mode(numeric_only=True).iloc[0]"
   ]
  },
  {
   "cell_type": "code",
   "execution_count": 179,
   "id": "32565d16-8e24-4991-81be-776e5923aff2",
   "metadata": {
    "tags": []
   },
   "outputs": [],
   "source": [
    "medidas_centrais_titanic = pd.DataFrame({\n",
    "    'media': media_titanic,\n",
    "    'mediana': mediana_titanic,\n",
    "    'moda': moda_titanic\n",
    "})"
   ]
  },
  {
   "cell_type": "code",
   "execution_count": 180,
   "id": "5c80ec71-f79a-491b-b4a9-2b5b736c91b5",
   "metadata": {},
   "outputs": [],
   "source": [
    "variancia_titanic = titanic_df_numericos.var()\n",
    "desvio_padrao_titanic = titanic_df_numericos.std()"
   ]
  },
  {
   "cell_type": "code",
   "execution_count": 181,
   "id": "12ff62cc-b3d6-4baf-8714-e21659379877",
   "metadata": {
    "tags": []
   },
   "outputs": [],
   "source": [
    "q1_titanic =  titanic_df_numericos.quantile(0.25)\n",
    "q3_titanic =  titanic_df_numericos.quantile(0.75)\n",
    "iqr_titanic = q3_titanic - q1_titanic"
   ]
  },
  {
   "cell_type": "code",
   "execution_count": 182,
   "id": "4992d983-a3d5-4cb7-8be8-51603b60309c",
   "metadata": {
    "tags": []
   },
   "outputs": [],
   "source": [
    "intervalo_titanic =  titanic_df_numericos.max() -  titanic_df_numericos.min()"
   ]
  },
  {
   "cell_type": "code",
   "execution_count": 183,
   "id": "9f5c7a5f-fce1-4a40-9737-54bb1aab7a85",
   "metadata": {
    "tags": []
   },
   "outputs": [],
   "source": [
    "medidas_dispersao_titanic = pd.DataFrame({\n",
    "    'desvio_padrao': desvio_padrao_titanic,\n",
    "    'IQR': iqr_titanic,\n",
    "    'intervalo': intervalo_titanic,\n",
    "    'variancia': variancia_titanic\n",
    "})"
   ]
  },
  {
   "cell_type": "code",
   "execution_count": 184,
   "id": "7fe94e24-801f-4f9c-a372-c105b88e6ed8",
   "metadata": {
    "tags": []
   },
   "outputs": [],
   "source": [
    "titanic_df_modas = pd.DataFrame()\n",
    "titanic_df_modas = pd.DataFrame(titanic_df_modas)"
   ]
  },
  {
   "cell_type": "code",
   "execution_count": 185,
   "id": "df891c04-40a1-4abb-a2fb-c5444b2f58d7",
   "metadata": {
    "tags": []
   },
   "outputs": [
    {
     "name": "stdout",
     "output_type": "stream",
     "text": [
      "        sex embarked   class    who  adult_male deck  embark_town alive  alone\n",
      "0      male        S   Third    man        True  NaN  Southampton    no  False\n",
      "1    female        C   First  woman       False    C    Cherbourg   yes  False\n",
      "2    female        S   Third  woman       False  NaN  Southampton   yes   True\n",
      "3    female        S   First  woman       False    C  Southampton   yes  False\n",
      "4      male        S   Third    man        True  NaN  Southampton    no   True\n",
      "..      ...      ...     ...    ...         ...  ...          ...   ...    ...\n",
      "886    male        S  Second    man        True  NaN  Southampton    no   True\n",
      "887  female        S   First  woman       False    B  Southampton   yes   True\n",
      "888  female        S   Third  woman       False  NaN  Southampton    no  False\n",
      "889    male        C   First    man        True    C    Cherbourg   yes   True\n",
      "890    male        Q   Third    man        True  NaN   Queenstown    no   True\n",
      "\n",
      "[891 rows x 9 columns]\n"
     ]
    }
   ],
   "source": [
    "titanic_df_nao_numericas = titanic_df.drop(columns=titanic_df_numericos)\n",
    "print(titanic_df_nao_numericas)"
   ]
  },
  {
   "cell_type": "code",
   "execution_count": 186,
   "id": "42d83ec3-e3f9-4543-9ac9-f99f1b37dac8",
   "metadata": {
    "tags": []
   },
   "outputs": [],
   "source": [
    "titanic_df_modas = titanic_df_nao_numericas.mode().iloc[0]"
   ]
  },
  {
   "cell_type": "markdown",
   "id": "77238576-50c2-48b3-97cf-98724c53ee42",
   "metadata": {
    "tags": []
   },
   "source": [
    "## 1. Descrição dos dados"
   ]
  },
  {
   "cell_type": "code",
   "execution_count": 176,
   "id": "06163583-bbcd-4675-97d1-551ec0c362ef",
   "metadata": {
    "tags": []
   },
   "outputs": [
    {
     "data": {
      "text/html": [
       "<div>\n",
       "<style scoped>\n",
       "    .dataframe tbody tr th:only-of-type {\n",
       "        vertical-align: middle;\n",
       "    }\n",
       "\n",
       "    .dataframe tbody tr th {\n",
       "        vertical-align: top;\n",
       "    }\n",
       "\n",
       "    .dataframe thead th {\n",
       "        text-align: right;\n",
       "    }\n",
       "</style>\n",
       "<table border=\"1\" class=\"dataframe\">\n",
       "  <thead>\n",
       "    <tr style=\"text-align: right;\">\n",
       "      <th></th>\n",
       "      <th>variavel</th>\n",
       "      <th>descricao</th>\n",
       "      <th>tipo</th>\n",
       "      <th>subtipo</th>\n",
       "    </tr>\n",
       "  </thead>\n",
       "  <tbody>\n",
       "    <tr>\n",
       "      <th>0</th>\n",
       "      <td>survived</td>\n",
       "      <td>Valor Booleano indicando se é sobrevivente ou não</td>\n",
       "      <td>Quantitativa</td>\n",
       "      <td>Discreta</td>\n",
       "    </tr>\n",
       "    <tr>\n",
       "      <th>1</th>\n",
       "      <td>pclass</td>\n",
       "      <td>Valor referente a classe</td>\n",
       "      <td>Quantitativa</td>\n",
       "      <td>Discreta</td>\n",
       "    </tr>\n",
       "    <tr>\n",
       "      <th>2</th>\n",
       "      <td>sex</td>\n",
       "      <td>Sexo do passageiro</td>\n",
       "      <td>Qualitativa</td>\n",
       "      <td>Nominal</td>\n",
       "    </tr>\n",
       "    <tr>\n",
       "      <th>3</th>\n",
       "      <td>age</td>\n",
       "      <td>Idade do Passageiro</td>\n",
       "      <td>Quantitativa</td>\n",
       "      <td>Discreta</td>\n",
       "    </tr>\n",
       "    <tr>\n",
       "      <th>4</th>\n",
       "      <td>sibsp</td>\n",
       "      <td>É referente ao número de irmãos e cônjuges a b...</td>\n",
       "      <td>Quantitativa</td>\n",
       "      <td>Discreta</td>\n",
       "    </tr>\n",
       "    <tr>\n",
       "      <th>5</th>\n",
       "      <td>parch</td>\n",
       "      <td>É referente ao número de pais e filhos a bordo...</td>\n",
       "      <td>Quantitativa</td>\n",
       "      <td>Discreta</td>\n",
       "    </tr>\n",
       "    <tr>\n",
       "      <th>6</th>\n",
       "      <td>fare</td>\n",
       "      <td>Tarifa paga pelo passageiro</td>\n",
       "      <td>Quantitativa</td>\n",
       "      <td>Contínua</td>\n",
       "    </tr>\n",
       "    <tr>\n",
       "      <th>7</th>\n",
       "      <td>embarked</td>\n",
       "      <td>Ponto de embarque do passageiro, podendo ser C...</td>\n",
       "      <td>Qualitativa</td>\n",
       "      <td>Nominal</td>\n",
       "    </tr>\n",
       "    <tr>\n",
       "      <th>8</th>\n",
       "      <td>class</td>\n",
       "      <td>Classe do passageiro</td>\n",
       "      <td>Qualitativa</td>\n",
       "      <td>Ordinal</td>\n",
       "    </tr>\n",
       "    <tr>\n",
       "      <th>9</th>\n",
       "      <td>who</td>\n",
       "      <td>Gênero do passageiro</td>\n",
       "      <td>Qualitativa</td>\n",
       "      <td>Nominal</td>\n",
       "    </tr>\n",
       "    <tr>\n",
       "      <th>10</th>\n",
       "      <td>adult_male</td>\n",
       "      <td>Variável booleana que indica se o passageiro é...</td>\n",
       "      <td>Qualitativa</td>\n",
       "      <td>Nominal</td>\n",
       "    </tr>\n",
       "    <tr>\n",
       "      <th>11</th>\n",
       "      <td>deck</td>\n",
       "      <td>Indica o deck que o passageiro estava</td>\n",
       "      <td>Qualitativa</td>\n",
       "      <td>Ordinal</td>\n",
       "    </tr>\n",
       "    <tr>\n",
       "      <th>12</th>\n",
       "      <td>embark_town</td>\n",
       "      <td>Ponto de embarque do passageiro, podendo ser C...</td>\n",
       "      <td>Qualitativa</td>\n",
       "      <td>Nominal</td>\n",
       "    </tr>\n",
       "    <tr>\n",
       "      <th>13</th>\n",
       "      <td>alive</td>\n",
       "      <td>Indica se o passageiro sobreviveu ou não</td>\n",
       "      <td>Qualitativa</td>\n",
       "      <td>Nominal</td>\n",
       "    </tr>\n",
       "    <tr>\n",
       "      <th>14</th>\n",
       "      <td>alone</td>\n",
       "      <td>Indica se o passageiro estava acompanhado ou não</td>\n",
       "      <td>Qualitativa</td>\n",
       "      <td>Nominal</td>\n",
       "    </tr>\n",
       "  </tbody>\n",
       "</table>\n",
       "</div>"
      ],
      "text/plain": [
       "       variavel                                          descricao  \\\n",
       "0      survived  Valor Booleano indicando se é sobrevivente ou não   \n",
       "1        pclass                           Valor referente a classe   \n",
       "2           sex                                 Sexo do passageiro   \n",
       "3           age                                Idade do Passageiro   \n",
       "4         sibsp  É referente ao número de irmãos e cônjuges a b...   \n",
       "5         parch  É referente ao número de pais e filhos a bordo...   \n",
       "6          fare                        Tarifa paga pelo passageiro   \n",
       "7      embarked  Ponto de embarque do passageiro, podendo ser C...   \n",
       "8         class                               Classe do passageiro   \n",
       "9           who                               Gênero do passageiro   \n",
       "10   adult_male  Variável booleana que indica se o passageiro é...   \n",
       "11         deck              Indica o deck que o passageiro estava   \n",
       "12  embark_town  Ponto de embarque do passageiro, podendo ser C...   \n",
       "13        alive           Indica se o passageiro sobreviveu ou não   \n",
       "14        alone   Indica se o passageiro estava acompanhado ou não   \n",
       "\n",
       "            tipo   subtipo  \n",
       "0   Quantitativa  Discreta  \n",
       "1   Quantitativa  Discreta  \n",
       "2    Qualitativa   Nominal  \n",
       "3   Quantitativa  Discreta  \n",
       "4   Quantitativa  Discreta  \n",
       "5   Quantitativa  Discreta  \n",
       "6   Quantitativa  Contínua  \n",
       "7    Qualitativa   Nominal  \n",
       "8    Qualitativa   Ordinal  \n",
       "9    Qualitativa   Nominal  \n",
       "10   Qualitativa   Nominal  \n",
       "11   Qualitativa   Ordinal  \n",
       "12   Qualitativa   Nominal  \n",
       "13   Qualitativa   Nominal  \n",
       "14   Qualitativa   Nominal  "
      ]
     },
     "execution_count": 176,
     "metadata": {},
     "output_type": "execute_result"
    }
   ],
   "source": [
    "dict_info_titanic"
   ]
  },
  {
   "cell_type": "code",
   "execution_count": 187,
   "id": "a72795dd-0e33-48db-ac09-a73eb8611c2c",
   "metadata": {},
   "outputs": [
    {
     "data": {
      "text/html": [
       "<div>\n",
       "<style scoped>\n",
       "    .dataframe tbody tr th:only-of-type {\n",
       "        vertical-align: middle;\n",
       "    }\n",
       "\n",
       "    .dataframe tbody tr th {\n",
       "        vertical-align: top;\n",
       "    }\n",
       "\n",
       "    .dataframe thead th {\n",
       "        text-align: right;\n",
       "    }\n",
       "</style>\n",
       "<table border=\"1\" class=\"dataframe\">\n",
       "  <thead>\n",
       "    <tr style=\"text-align: right;\">\n",
       "      <th></th>\n",
       "      <th>media</th>\n",
       "      <th>mediana</th>\n",
       "      <th>moda</th>\n",
       "    </tr>\n",
       "  </thead>\n",
       "  <tbody>\n",
       "    <tr>\n",
       "      <th>survived</th>\n",
       "      <td>0.383838</td>\n",
       "      <td>0.0000</td>\n",
       "      <td>0.00</td>\n",
       "    </tr>\n",
       "    <tr>\n",
       "      <th>pclass</th>\n",
       "      <td>2.308642</td>\n",
       "      <td>3.0000</td>\n",
       "      <td>3.00</td>\n",
       "    </tr>\n",
       "    <tr>\n",
       "      <th>age</th>\n",
       "      <td>29.699118</td>\n",
       "      <td>28.0000</td>\n",
       "      <td>24.00</td>\n",
       "    </tr>\n",
       "    <tr>\n",
       "      <th>sibsp</th>\n",
       "      <td>0.523008</td>\n",
       "      <td>0.0000</td>\n",
       "      <td>0.00</td>\n",
       "    </tr>\n",
       "    <tr>\n",
       "      <th>parch</th>\n",
       "      <td>0.381594</td>\n",
       "      <td>0.0000</td>\n",
       "      <td>0.00</td>\n",
       "    </tr>\n",
       "    <tr>\n",
       "      <th>fare</th>\n",
       "      <td>32.204208</td>\n",
       "      <td>14.4542</td>\n",
       "      <td>8.05</td>\n",
       "    </tr>\n",
       "  </tbody>\n",
       "</table>\n",
       "</div>"
      ],
      "text/plain": [
       "              media  mediana   moda\n",
       "survived   0.383838   0.0000   0.00\n",
       "pclass     2.308642   3.0000   3.00\n",
       "age       29.699118  28.0000  24.00\n",
       "sibsp      0.523008   0.0000   0.00\n",
       "parch      0.381594   0.0000   0.00\n",
       "fare      32.204208  14.4542   8.05"
      ]
     },
     "execution_count": 187,
     "metadata": {},
     "output_type": "execute_result"
    }
   ],
   "source": [
    "medidas_centrais_titanic"
   ]
  },
  {
   "cell_type": "code",
   "execution_count": 188,
   "id": "aec0d389-b323-458c-b8fe-5b6284bb491d",
   "metadata": {
    "tags": []
   },
   "outputs": [
    {
     "data": {
      "text/html": [
       "<div>\n",
       "<style scoped>\n",
       "    .dataframe tbody tr th:only-of-type {\n",
       "        vertical-align: middle;\n",
       "    }\n",
       "\n",
       "    .dataframe tbody tr th {\n",
       "        vertical-align: top;\n",
       "    }\n",
       "\n",
       "    .dataframe thead th {\n",
       "        text-align: right;\n",
       "    }\n",
       "</style>\n",
       "<table border=\"1\" class=\"dataframe\">\n",
       "  <thead>\n",
       "    <tr style=\"text-align: right;\">\n",
       "      <th></th>\n",
       "      <th>desvio_padrao</th>\n",
       "      <th>IQR</th>\n",
       "      <th>intervalo</th>\n",
       "      <th>variancia</th>\n",
       "    </tr>\n",
       "  </thead>\n",
       "  <tbody>\n",
       "    <tr>\n",
       "      <th>survived</th>\n",
       "      <td>0.486592</td>\n",
       "      <td>1.0000</td>\n",
       "      <td>1.0000</td>\n",
       "      <td>0.236772</td>\n",
       "    </tr>\n",
       "    <tr>\n",
       "      <th>pclass</th>\n",
       "      <td>0.836071</td>\n",
       "      <td>1.0000</td>\n",
       "      <td>2.0000</td>\n",
       "      <td>0.699015</td>\n",
       "    </tr>\n",
       "    <tr>\n",
       "      <th>age</th>\n",
       "      <td>14.526497</td>\n",
       "      <td>17.8750</td>\n",
       "      <td>79.5800</td>\n",
       "      <td>211.019125</td>\n",
       "    </tr>\n",
       "    <tr>\n",
       "      <th>sibsp</th>\n",
       "      <td>1.102743</td>\n",
       "      <td>1.0000</td>\n",
       "      <td>8.0000</td>\n",
       "      <td>1.216043</td>\n",
       "    </tr>\n",
       "    <tr>\n",
       "      <th>parch</th>\n",
       "      <td>0.806057</td>\n",
       "      <td>0.0000</td>\n",
       "      <td>6.0000</td>\n",
       "      <td>0.649728</td>\n",
       "    </tr>\n",
       "    <tr>\n",
       "      <th>fare</th>\n",
       "      <td>49.693429</td>\n",
       "      <td>23.0896</td>\n",
       "      <td>512.3292</td>\n",
       "      <td>2469.436846</td>\n",
       "    </tr>\n",
       "  </tbody>\n",
       "</table>\n",
       "</div>"
      ],
      "text/plain": [
       "          desvio_padrao      IQR  intervalo    variancia\n",
       "survived       0.486592   1.0000     1.0000     0.236772\n",
       "pclass         0.836071   1.0000     2.0000     0.699015\n",
       "age           14.526497  17.8750    79.5800   211.019125\n",
       "sibsp          1.102743   1.0000     8.0000     1.216043\n",
       "parch          0.806057   0.0000     6.0000     0.649728\n",
       "fare          49.693429  23.0896   512.3292  2469.436846"
      ]
     },
     "execution_count": 188,
     "metadata": {},
     "output_type": "execute_result"
    }
   ],
   "source": [
    "medidas_dispersao_titanic"
   ]
  },
  {
   "cell_type": "code",
   "execution_count": 189,
   "id": "23de4258-9947-4c22-ac10-a25ac3563dd0",
   "metadata": {
    "tags": []
   },
   "outputs": [
    {
     "data": {
      "text/plain": [
       "sex                   male\n",
       "embarked                 S\n",
       "class                Third\n",
       "who                    man\n",
       "adult_male            True\n",
       "deck                     C\n",
       "embark_town    Southampton\n",
       "alive                   no\n",
       "alone                 True\n",
       "Name: 0, dtype: object"
      ]
     },
     "execution_count": 189,
     "metadata": {},
     "output_type": "execute_result"
    }
   ],
   "source": [
    "titanic_df_modas"
   ]
  },
  {
   "cell_type": "markdown",
   "id": "06c9d043-719b-4ab6-bc67-61a39a57ec3e",
   "metadata": {},
   "source": [
    "## 2. Perguntas de partida e hipóteses"
   ]
  },
  {
   "cell_type": "markdown",
   "id": "f51c5db3-f4ef-419a-bdb3-a3d0d726a45f",
   "metadata": {},
   "source": [
    "### 1. \n",
    "### 2. \n",
    "### 3. "
   ]
  },
  {
   "cell_type": "markdown",
   "id": "fc17ae19-a0b1-4727-a1c8-9989839e49f3",
   "metadata": {},
   "source": [
    "## 3. Insights"
   ]
  },
  {
   "cell_type": "markdown",
   "id": "2253ce45-8a7c-4443-ac73-a307077d0c6a",
   "metadata": {},
   "source": [
    "### 1.\n",
    "### 2.  \n",
    "### 3. "
   ]
  }
 ],
 "metadata": {
  "kernelspec": {
   "display_name": "Python 3 (ipykernel)",
   "language": "python",
   "name": "python3"
  },
  "language_info": {
   "codemirror_mode": {
    "name": "ipython",
    "version": 3
   },
   "file_extension": ".py",
   "mimetype": "text/x-python",
   "name": "python",
   "nbconvert_exporter": "python",
   "pygments_lexer": "ipython3",
   "version": "3.11.5"
  }
 },
 "nbformat": 4,
 "nbformat_minor": 5
}
